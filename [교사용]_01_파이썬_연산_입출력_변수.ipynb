{
  "nbformat": 4,
  "nbformat_minor": 0,
  "metadata": {
    "colab": {
      "provenance": [],
      "include_colab_link": true
    },
    "kernelspec": {
      "name": "python3",
      "display_name": "Python 3"
    },
    "language_info": {
      "name": "python"
    }
  },
  "cells": [
    {
      "cell_type": "markdown",
      "metadata": {
        "id": "view-in-github",
        "colab_type": "text"
      },
      "source": [
        "<a href=\"https://colab.research.google.com/github/kim-ejgood/pro/blob/main/%5B%EA%B5%90%EC%82%AC%EC%9A%A9%5D_01_%ED%8C%8C%EC%9D%B4%EC%8D%AC_%EC%97%B0%EC%82%B0_%EC%9E%85%EC%B6%9C%EB%A0%A5_%EB%B3%80%EC%88%98.ipynb\" target=\"_parent\"><img src=\"https://colab.research.google.com/assets/colab-badge.svg\" alt=\"Open In Colab\"/></a>"
      ]
    },
    {
      "cell_type": "markdown",
      "source": [
        "숫자끼리 더해볼까요?"
      ],
      "metadata": {
        "id": "MzIGYNCYJjw4"
      }
    },
    {
      "cell_type": "code",
      "source": [
        "1+1"
      ],
      "metadata": {
        "id": "NC3jATtaJjNh",
        "colab": {
          "base_uri": "https://localhost:8080/"
        },
        "outputId": "e797445b-db6d-4a1c-ecca-4fc9cb87988f"
      },
      "execution_count": null,
      "outputs": [
        {
          "output_type": "execute_result",
          "data": {
            "text/plain": [
              "2"
            ]
          },
          "metadata": {},
          "execution_count": 1
        }
      ]
    },
    {
      "cell_type": "code",
      "source": [
        "1 + 1"
      ],
      "metadata": {
        "id": "k0WutYBeJoh2",
        "colab": {
          "base_uri": "https://localhost:8080/"
        },
        "outputId": "11456cf3-5471-4a31-bc31-830776461603"
      },
      "execution_count": null,
      "outputs": [
        {
          "output_type": "execute_result",
          "data": {
            "text/plain": [
              "2"
            ]
          },
          "metadata": {},
          "execution_count": 2
        }
      ]
    },
    {
      "cell_type": "markdown",
      "source": [
        "# 1. 파이썬에서의 산술연산\n",
        "\n",
        "파이썬에서는 정수의 덧셈, 뺄셈, 곱셈, 나눗셈 등을 할 수 있습니다.\n",
        "\n",
        "\n",
        "*   덧셈 : 키보드 +\n",
        "*   뺄셈 : 키보드 -\n",
        "*   곱셈 : 키보드 *\n",
        "*   몫을 구하기 : 키보드 //\n",
        "*   소수점까지 나누기 : 키보드 /\n",
        "*   제곱 : 키보드 **"
      ],
      "metadata": {
        "id": "gnLnJ6uUKCbH"
      }
    },
    {
      "cell_type": "code",
      "source": [],
      "metadata": {
        "id": "6_eVCxMQbQrT"
      },
      "execution_count": null,
      "outputs": []
    },
    {
      "cell_type": "markdown",
      "source": [
        "# 2. 파이썬에서의 비교연산"
      ],
      "metadata": {
        "id": "GjXrc8r3Ndge"
      }
    },
    {
      "cell_type": "markdown",
      "source": [
        "파이썬은 부등식을 판단할 수도 있습니다.\n",
        "참과 거짓을 판단할 수 있지요!\n",
        "\n",
        "\n",
        "*   크다 : 키보드 >\n",
        "*   작다 : 키보드 <\n",
        "*   같다 : 키보드 ==\n",
        "*   같지 않다 : 키보드 !=\n",
        "*   이상 : 키보드 >=\n",
        "*   이하 : 키보드 <=\n",
        "\n"
      ],
      "metadata": {
        "id": "eju8WOAMNzZF"
      }
    },
    {
      "cell_type": "code",
      "source": [
        "3 <= 3"
      ],
      "metadata": {
        "id": "MTRTSD7rbsfz",
        "colab": {
          "base_uri": "https://localhost:8080/"
        },
        "outputId": "6e44cee8-554a-4bac-e3d6-70596603eaec"
      },
      "execution_count": null,
      "outputs": [
        {
          "output_type": "execute_result",
          "data": {
            "text/plain": [
              "True"
            ]
          },
          "metadata": {},
          "execution_count": 12
        }
      ]
    },
    {
      "cell_type": "markdown",
      "source": [
        "# 3. 파이썬에서의 논리연산"
      ],
      "metadata": {
        "id": "SPiO79PGNjaE"
      }
    },
    {
      "cell_type": "markdown",
      "source": [
        "파이썬에서는 참/거짓을 True, False로 표시한다.\n",
        "\n",
        "& (and) 연산은 두 값이 모두 참일 때만 참이 됩니다. 즉, 하나라도 거짓이면 답은 거짓이다.\n",
        "\n",
        "| (or) 연산은 두 값이 모두 거짓일 때만 거짓이 됩니다. 즉, 하나라도 참이면 답은 참이다."
      ],
      "metadata": {
        "id": "6kF0JzUibynu"
      }
    },
    {
      "cell_type": "code",
      "source": [
        "True & True"
      ],
      "metadata": {
        "id": "zg5YJ_VJcE2F",
        "colab": {
          "base_uri": "https://localhost:8080/"
        },
        "outputId": "ae15e1d6-ee64-4c63-f8df-f165210761ef"
      },
      "execution_count": null,
      "outputs": [
        {
          "output_type": "execute_result",
          "data": {
            "text/plain": [
              "True"
            ]
          },
          "metadata": {},
          "execution_count": 13
        }
      ]
    },
    {
      "cell_type": "code",
      "source": [
        "True & False"
      ],
      "metadata": {
        "id": "nPx8DpaAcGYW",
        "colab": {
          "base_uri": "https://localhost:8080/"
        },
        "outputId": "fd79a399-6f1a-4529-ee8b-f2714245db8f"
      },
      "execution_count": null,
      "outputs": [
        {
          "output_type": "execute_result",
          "data": {
            "text/plain": [
              "False"
            ]
          },
          "metadata": {},
          "execution_count": 14
        }
      ]
    },
    {
      "cell_type": "code",
      "source": [
        "True | False"
      ],
      "metadata": {
        "id": "oANwHT9lcKh9",
        "colab": {
          "base_uri": "https://localhost:8080/"
        },
        "outputId": "dbbc0628-ca1f-40fd-dcea-44749c7889ec"
      },
      "execution_count": null,
      "outputs": [
        {
          "output_type": "execute_result",
          "data": {
            "text/plain": [
              "True"
            ]
          },
          "metadata": {},
          "execution_count": 15
        }
      ]
    },
    {
      "cell_type": "code",
      "source": [
        "(2>2) | (2<3)"
      ],
      "metadata": {
        "id": "9JvofrA-cNNB",
        "colab": {
          "base_uri": "https://localhost:8080/"
        },
        "outputId": "b735a352-c62c-4894-cf4f-7cb93dbcdd1c"
      },
      "execution_count": null,
      "outputs": [
        {
          "output_type": "execute_result",
          "data": {
            "text/plain": [
              "True"
            ]
          },
          "metadata": {},
          "execution_count": 45
        }
      ]
    },
    {
      "cell_type": "markdown",
      "metadata": {
        "id": "wotn55MCvz6o"
      },
      "source": [
        "# 4. 자료형이란?"
      ]
    },
    {
      "cell_type": "markdown",
      "metadata": {
        "id": "SBTmiaidANCt"
      },
      "source": [
        "자료형이란 ? 주어진 자료가 어떤 형태인지를 말한다.\n",
        "\n",
        "자료형의 네 가지 종류\n",
        "- 정수(integer)  ex. -7, 0, 12, 1024\n",
        "- 실수(float)  ex. -5.1, 3.14, 13.0\n",
        "- 문자(character)  ex. \"a\", \"b\", \"C\", \"@\", \"!\", \"(\" 등 길이가 1인 기호\n",
        "- 문자열(string)  ex. \"Life is too short.\", \"apple\", \"123\""
      ]
    },
    {
      "cell_type": "markdown",
      "metadata": {
        "id": "tdDjbEuGlONN"
      },
      "source": [
        "# 5. 출력이란? (print)\n",
        "\n",
        "\n"
      ]
    },
    {
      "cell_type": "markdown",
      "metadata": {
        "id": "PXnikWhyw6m6"
      },
      "source": [
        "print( )는 괄호 안의 어떤 값을 모니터에 출력할 때 사용한다.\n",
        "* 숫자 : print(숫자)\n",
        "* 식 : print(식)\n",
        "* 문자 또는 열 : print(\"문자\")"
      ]
    },
    {
      "cell_type": "code",
      "metadata": {
        "id": "7LxTUy80yJ5e"
      },
      "source": [
        "#한 개씩 출력해봅시다.\n",
        "print(4)\n",
        "print(4+14)\n",
        "print(\"안녕하세요?\") #문자열은 \" \" 혹은 '' 을 앞뒤에 사용합니다.\n",
        "print('파이썬 쉽지요?')\n",
        "\n",
        "#여러 개를 출력할 수도 있어요.\n",
        "print('파이썬','쉽네요.')\n",
        "print('파이썬'+'좋아요')\n",
        "print('파이썬'* 3)\n",
        "print('파이썬',10*7)"
      ],
      "execution_count": null,
      "outputs": []
    },
    {
      "cell_type": "markdown",
      "source": [
        "**참고!!**  서식 지정자란?\n",
        "\n",
        "![image.png](data:image/png;base64,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)"
      ],
      "metadata": {
        "id": "8VDYT6MT23iv"
      }
    },
    {
      "cell_type": "markdown",
      "source": [
        "**참고2!! ** 이스케이프 코드?\n",
        "\n",
        "![image.png](data:image/png;base64,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)"
      ],
      "metadata": {
        "id": "nHRmwGPv3KOM"
      }
    },
    {
      "cell_type": "markdown",
      "metadata": {
        "id": "_fu2spBN4Yzp"
      },
      "source": [
        "\n",
        "\n",
        "---\n",
        "\n"
      ]
    },
    {
      "cell_type": "markdown",
      "metadata": {
        "id": "7fg_VTmm1iB0"
      },
      "source": [
        "# 6. 변수란 무엇인가?"
      ]
    },
    {
      "cell_type": "markdown",
      "metadata": {
        "id": "prbL0Z2y0sF4"
      },
      "source": [
        " 우리가 학교 숙제로 제출할 ppt 파일을 USB에 저장하려면 충분한 저장공간이 필요하다.\n",
        "\n",
        " 마찬가지로 컴퓨터에서 처리하는 숫자나 문자열 같은 데이터도 저장할 공간이 필요한데,\n",
        "\n",
        " 변하는 값을 저장할 수 있는 공간을 '변수(變數, variable)'라고 한다.\n",
        "\n",
        "* name='파이썬'\n",
        "\n",
        " name이 변수이고, = 기호는 오른쪽의 값을 왼쪽에 대입하는 역할을 한다."
      ]
    },
    {
      "cell_type": "code",
      "metadata": {
        "id": "yQr2u0q73EFu",
        "colab": {
          "base_uri": "https://localhost:8080/"
        },
        "outputId": "8b09dd74-a6d1-4a5c-9232-39081ff115a7"
      },
      "source": [
        "name='파이썬'\n",
        "print(name)\n",
        "\n",
        "a = 1024\n",
        "print(a)\n",
        "\n",
        "user = '파희선'\n",
        "print(user+'님! 안녕하세요!')"
      ],
      "execution_count": null,
      "outputs": [
        {
          "output_type": "stream",
          "name": "stdout",
          "text": [
            "파이썬\n"
          ]
        }
      ]
    },
    {
      "cell_type": "markdown",
      "source": [],
      "metadata": {
        "id": "pHGCi7DguTu5"
      }
    },
    {
      "cell_type": "markdown",
      "metadata": {
        "id": "wvvYrt7xvdA0"
      },
      "source": [
        "# input( ) 명령으로 키보드 입력값 받기"
      ]
    },
    {
      "cell_type": "markdown",
      "source": [
        "[형식] 변수명=input(생략 또는 \"메시지\")\n",
        "\n",
        " ※ input( ) 함수는 문자열 값을 입력받는다.\n"
      ],
      "metadata": {
        "id": "pinjShuuskoh"
      }
    },
    {
      "cell_type": "code",
      "metadata": {
        "id": "WFwkT0Jw5rzD",
        "colab": {
          "base_uri": "https://localhost:8080/"
        },
        "outputId": "7bf0f181-c465-4c4e-aedf-d5eb461d9d0f"
      },
      "source": [
        "user=input()\n",
        "print(user+'님! 안녕하세요!')\n",
        "\n",
        "user = input('이름을 입력해주세요 : ')\n",
        "print(user+'님! 안녕하세요!')"
      ],
      "execution_count": null,
      "outputs": [
        {
          "output_type": "stream",
          "name": "stdout",
          "text": [
            "김은정\n",
            "김은정님! 안녕하세요!\n"
          ]
        }
      ]
    },
    {
      "cell_type": "code",
      "metadata": {
        "id": "8xeZIOgl7eW1",
        "colab": {
          "base_uri": "https://localhost:8080/"
        },
        "outputId": "cfeac1b1-f006-4e48-d963-f4272049d458"
      },
      "source": [
        "number=input()\n",
        "print(number)"
      ],
      "execution_count": null,
      "outputs": [
        {
          "output_type": "stream",
          "name": "stdout",
          "text": [
            "3\n",
            "3\n"
          ]
        }
      ]
    },
    {
      "cell_type": "code",
      "metadata": {
        "id": "G91Cl9SnB6Bg",
        "colab": {
          "base_uri": "https://localhost:8080/"
        },
        "outputId": "717cbc6f-aa7a-4207-b7dd-d7beab47f831"
      },
      "source": [
        "# a,b,c,d 각 변수에 정수, 실수, 문자, 문자열을 저장함.\n",
        "a = 12\n",
        "b = 3.14\n",
        "c = \"z\"\n",
        "d = \"Life is too short.\""
      ],
      "execution_count": null,
      "outputs": [
        {
          "output_type": "stream",
          "name": "stdout",
          "text": [
            "<class 'int'>\n",
            "<class 'float'>\n",
            "<class 'str'>\n",
            "<class 'str'>\n"
          ]
        }
      ]
    },
    {
      "cell_type": "code",
      "metadata": {
        "id": "RPYJfypGCwe2",
        "colab": {
          "base_uri": "https://localhost:8080/"
        },
        "outputId": "988a3343-0a03-4b92-9fbd-c14a4efeabb4"
      },
      "source": [
        "x = input('나이를 입력해 주세요 : ')\n",
        "print(x)\n",
        "print(type(x)) # 변수 x가 어떤 자료형인지 확인해보자.\n",
        "y = int(x)\n",
        "print(type(y))"
      ],
      "execution_count": null,
      "outputs": [
        {
          "output_type": "stream",
          "name": "stdout",
          "text": [
            "나이를 입력해 주세요 : 17\n",
            "17\n",
            "<class 'str'>\n",
            "<class 'int'>\n"
          ]
        }
      ]
    },
    {
      "cell_type": "markdown",
      "metadata": {
        "id": "Z8yEv8FfDY_B"
      },
      "source": [
        "\n",
        "\n",
        "---\n",
        "\n"
      ]
    },
    {
      "cell_type": "markdown",
      "metadata": {
        "id": "K8-MnRJGv4_Q"
      },
      "source": [
        "# 7. split( )을 사용한 입력"
      ]
    },
    {
      "cell_type": "markdown",
      "metadata": {
        "id": "JKu22bOxLjje"
      },
      "source": [
        "입력 데이터가 여러개 일 때 split()을 사용하여 한 번에 입력할 수 있다.\n",
        "\n",
        "예를 들어, a, b = input().split(\":\") 에서는\n",
        "\n",
        "입력한 데이터를 콜론 : 기호를 기준으로 나누어 각각 변수 a와 b에 저장한다."
      ]
    },
    {
      "cell_type": "markdown",
      "metadata": {
        "id": "cwcU1FzFLxIe"
      },
      "source": [
        "**연습 8-1. 아래 코드를 실행하여 \"1 3\"과 \"up down\"을 입력해보자.(따옴표는 빼고 입력)**"
      ]
    },
    {
      "cell_type": "code",
      "metadata": {
        "id": "-_lehlpiLvJv",
        "colab": {
          "base_uri": "https://localhost:8080/"
        },
        "outputId": "3b22d9f7-2dd7-4b1f-db99-c436ca8ef8b1"
      },
      "source": [
        "a, b = input().split()\n",
        "print(a)\n",
        "print(b)"
      ],
      "execution_count": null,
      "outputs": [
        {
          "output_type": "stream",
          "name": "stdout",
          "text": [
            "up down\n",
            "up\n",
            "down\n"
          ]
        }
      ]
    },
    {
      "cell_type": "code",
      "source": [
        "a,b=inpu"
      ],
      "metadata": {
        "id": "KlIfuo38yRRq"
      },
      "execution_count": null,
      "outputs": []
    },
    {
      "cell_type": "code",
      "metadata": {
        "id": "ufICoWyEOE_-",
        "colab": {
          "base_uri": "https://localhost:8080/"
        },
        "outputId": "31ac040e-d503-4a76-a288-c3c9170dd948"
      },
      "source": [
        "a, b = input().split(\":\")\n",
        "print('현재시각은', a+'시', b+'분 입니다.')"
      ],
      "execution_count": null,
      "outputs": [
        {
          "output_type": "stream",
          "name": "stdout",
          "text": [
            "5:15\n",
            "현재시각은 5시 15분 입니다.\n"
          ]
        }
      ]
    },
    {
      "cell_type": "markdown",
      "metadata": {
        "id": "a_TZsTdBQYqR"
      },
      "source": [
        "\n",
        "\n",
        "---\n",
        "\n"
      ]
    },
    {
      "cell_type": "markdown",
      "metadata": {
        "id": "kRa3jsPZwHK6"
      },
      "source": [
        "# 8. separate를 사용한 출력\n",
        "\n",
        "\n"
      ]
    },
    {
      "cell_type": "markdown",
      "metadata": {
        "id": "AuyBTxvVO3UR"
      },
      "source": [
        "**sep**arate는 분리하다, 자르다 라는 의미를 가지고 있으며,\n",
        "\n",
        "print(?, ?, sep=':') 를 사용하면 콜론 ':' 기호를 사이에 두고 값을 출력한다."
      ]
    },
    {
      "cell_type": "code",
      "metadata": {
        "id": "b61ZxOyUQK1d",
        "colab": {
          "base_uri": "https://localhost:8080/"
        },
        "outputId": "a50a2c6c-600a-4f58-9361-48ba9c785e00"
      },
      "source": [
        "a, b=input().split(\":\")\n",
        "print(a,b)\n",
        "print(a,b,sep=\":\")\n",
        "print('life', 'is', 'too', 'short', sep='\\n')"
      ],
      "execution_count": null,
      "outputs": [
        {
          "output_type": "stream",
          "name": "stdout",
          "text": [
            "3:5\n",
            "3 5\n",
            "3:5\n",
            "life\n",
            "is\n",
            "to\n",
            "short\n"
          ]
        }
      ]
    },
    {
      "cell_type": "markdown",
      "source": [
        "[연습1] 로봇기자 원고 작성\n",
        "\n",
        "사용자에게 경기장, 점수, 이긴팀, 진팀, 우수 선수를 입력받아 원고를 작성하여 보자.\n",
        "```\n",
        "경기장은 어디입니까? 서울\n",
        "이기팀은 어디입니까? 삼성\n",
        "진팀은 어디입니까? LG\n",
        "우수선수는 누구입니까? 홍길동\n",
        "스코어는 몇대몇입니까? 8:7\n",
        "```\n",
        "로봇기자 원고\n",
        "```\n",
        "오늘 서울에서 야구 경기가 열렸습니다.\n",
        "삼성과 LG은 치열한 공방전을 펼쳤습니다.\n",
        "홍길동이 맹활약을 하였습니다.\n",
        "결국 삼성이 LG를 8:7로 이겼습니다.\n",
        "```"
      ],
      "metadata": {
        "id": "_8pzp8p18MtS"
      }
    },
    {
      "cell_type": "code",
      "source": [
        "#연습1"
      ],
      "metadata": {
        "id": "Soqwsg9n-rGL"
      },
      "execution_count": null,
      "outputs": []
    },
    {
      "cell_type": "markdown",
      "source": [
        "[연습2] 친근하게 대화하는 프로그램\n",
        "\n",
        "사용자의 이름과 나이를 입력받아 대화하는 프로그램을 작성해 보자.\n",
        "```\n",
        "안녕하세요?\n",
        "이름이 어떻게 되시나요? 홍길동\n",
        "만나서 반갑습니다. 홍길동씨\n",
        "나이가 어떻게 되나요? 21\n",
        "내년이면 22살이 되시는 군요\n",
        "```"
      ],
      "metadata": {
        "id": "_UHBzkRt_OwX"
      }
    },
    {
      "cell_type": "code",
      "source": [
        "#연습2"
      ],
      "metadata": {
        "id": "nEMNFDMdAD0F"
      },
      "execution_count": null,
      "outputs": []
    },
    {
      "cell_type": "markdown",
      "source": [
        "[연습3] 커피가게 매출 계산 프로그램\n",
        "\n",
        "커피전문점에는 아메리카노 3,500원, 카페라떼 4,500원, 카푸치노 4,700원에 판매하고 있다. 커피가게에 판매한 판매 개수를 입력받아 매출 총액을 계산하는 프로그램을 작성하여 보자.\n",
        "```\n",
        "아메리카노 판매 개수 : 10\n",
        "카페라떼 판매개수 : 20\n",
        "카푸치노 판매개수 : 30\n",
        "총매출은 391,000입니다\n",
        "```"
      ],
      "metadata": {
        "id": "21mmiL9YAV3n"
      }
    },
    {
      "cell_type": "code",
      "source": [
        "# 2050년에 나는 몇 살일까?\n",
        "import datetime\n",
        "today=datetime.datetime.now().year\n",
        "print(\"올해는 2022년입니다.\")\n",
        "age=int(input(\"몇 살이세요?\"))\n",
        "print(\"2050년에 당신은\", age+(2050-today), \"살 입니다.\" )"
      ],
      "metadata": {
        "colab": {
          "base_uri": "https://localhost:8080/"
        },
        "id": "w801ypBu0kRW",
        "outputId": "bf49034b-7346-40d4-9fa2-5835f3de5e9f"
      },
      "execution_count": null,
      "outputs": [
        {
          "output_type": "stream",
          "name": "stdout",
          "text": [
            "<class 'int'>\n",
            "올해는 2022년입니다.\n",
            "몇 살이세요?50\n",
            "2050년에 당신은 78 살 입니다.\n"
          ]
        }
      ]
    },
    {
      "cell_type": "code",
      "source": [
        "grade, rate=input(\"점수와 반영비율 :\").split(',')\n",
        "cal=int(grade)*float(rate)\n",
        "print(\"환산 점수는 \",cal)"
      ],
      "metadata": {
        "colab": {
          "base_uri": "https://localhost:8080/"
        },
        "id": "EftqaSQf0uWM",
        "outputId": "4e285337-7586-4cd3-9b66-c0fdb809761c"
      },
      "execution_count": null,
      "outputs": [
        {
          "output_type": "stream",
          "name": "stdout",
          "text": [
            "점수와 반영비율 :80,0.5\n",
            "환산 점수는  40.0\n"
          ]
        }
      ]
    }
  ]
}