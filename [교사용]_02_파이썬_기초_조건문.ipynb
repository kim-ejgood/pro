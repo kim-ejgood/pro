{
  "nbformat": 4,
  "nbformat_minor": 0,
  "metadata": {
    "colab": {
      "provenance": [],
      "include_colab_link": true
    },
    "kernelspec": {
      "name": "python3",
      "display_name": "Python 3"
    },
    "language_info": {
      "name": "python"
    }
  },
  "cells": [
    {
      "cell_type": "markdown",
      "metadata": {
        "id": "view-in-github",
        "colab_type": "text"
      },
      "source": [
        "<a href=\"https://colab.research.google.com/github/kim-ejgood/pro/blob/main/%5B%EA%B5%90%EC%82%AC%EC%9A%A9%5D_02_%ED%8C%8C%EC%9D%B4%EC%8D%AC_%EA%B8%B0%EC%B4%88_%EC%A1%B0%EA%B1%B4%EB%AC%B8.ipynb\" target=\"_parent\"><img src=\"https://colab.research.google.com/assets/colab-badge.svg\" alt=\"Open In Colab\"/></a>"
      ]
    },
    {
      "cell_type": "markdown",
      "source": [
        "#조건문"
      ],
      "metadata": {
        "id": "bGw0cc6SCKzY"
      }
    },
    {
      "cell_type": "markdown",
      "source": [
        "## 1. if 명령\n",
        "\n",
        "`if ~ ` 명령을 사용하면 조건에 따라 명령을 수행할 수 있다.\n",
        "```\n",
        "if 조건:\n",
        "    조건이 참일 때 실행되는 명령들\n",
        "```"
      ],
      "metadata": {
        "id": "igZXb3pzoJ6k"
      }
    },
    {
      "cell_type": "code",
      "source": [
        "# 연습1. 정수를 입력받아 '양수'인지 구분하여 출력\n",
        "num=int(input(\"정수 입력 :\"))\n",
        "if num>0:\n",
        "    print(\"입력한 수는 양수\")"
      ],
      "metadata": {
        "id": "J68jAb31DP03"
      },
      "execution_count": null,
      "outputs": []
    },
    {
      "cell_type": "markdown",
      "source": [
        "## 2. if ~ else 명령\n",
        "\n",
        "`if ~ else` 명령을 사용하면 조건에 따라 다른 명령을 수행할 수 있다. `if ~ else` 명령은 다음과 같이 만든다.\n",
        "\n",
        "```\n",
        "if 조건:\n",
        "    조건이 참일 때 실행되는 명령들\n",
        "else:\n",
        "    조건이 거짓일 때 실행되는 명령들\n",
        "```"
      ],
      "metadata": {
        "id": "iiB1TkEmD9Kg"
      }
    },
    {
      "cell_type": "markdown",
      "source": [
        "연습 2. 비밀번호를 5470으로 지정해둔 금고가 있다. 금고를 열기 위해 비밀번호를 찾으려는 시도를 할 때, 일치 여부를 알려주는 프로그램을 만든다면?\n",
        "\n",
        "[입력] 비밀번호 4자리를 입력하세요 : 5470\n",
        "\n",
        "[출력] 비밀번호가 일치합니다."
      ],
      "metadata": {
        "id": "GhpekP7ODycf"
      }
    },
    {
      "cell_type": "markdown",
      "source": [
        "연습 2. 비밀번호를 5470으로 지정해둔 금고가 있다. 이 금고를 열기 위해 비밀번호를 찾으려는 시도를 할 때, 일치 여부를 알려주는 프로그램을 만든다면?"
      ],
      "metadata": {
        "id": "anhh5tvHG66P"
      }
    },
    {
      "cell_type": "code",
      "source": [
        "# 연습2\n",
        "pw=\"5470\"\n",
        "inpw=input(\"비밀번호를 입력하세요.\")\n",
        "if pw==inpw:\n",
        "    print(\"비밀번호가 맞았습니다.\")\n",
        "else:\n",
        "    print(\"삐삐삐삐삐\")"
      ],
      "metadata": {
        "id": "WBiBDsRUCSmu"
      },
      "execution_count": null,
      "outputs": []
    },
    {
      "cell_type": "markdown",
      "source": [
        "연습 3. 변수 a에 있는 값은 짝수? 홀수?"
      ],
      "metadata": {
        "id": "c37yIj1rEVCX"
      }
    },
    {
      "cell_type": "code",
      "source": [
        "# 연습3\n",
        "a = 5\n",
        "\n",
        "if a % 2 == 0:\n",
        "    print(\"짝수\")\n",
        "else:\n",
        "    print(\"홀수\")"
      ],
      "metadata": {
        "id": "9QU0QNGFD8aE"
      },
      "execution_count": null,
      "outputs": []
    },
    {
      "cell_type": "markdown",
      "source": [
        "## if ~ elif ~ else 명령\n",
        "\n",
        "조건으로 나누어야 할 경우의 수가 두 가지가 아니라 여러 가지일 때는 다음과 같이 `if ~ elif ~ else` 명령을 사용할 수 있다.\n",
        "```\n",
        "if 조건1:\n",
        "    조건1이 참일 때 실행되는 명령\n",
        "elif 조건2:\n",
        "    조건1이 거짓이고 조건2가 참일 때 실행되는 명령\n",
        "elif 조건3:\n",
        "    조건1과 조건2가 거짓이고 조건3가 참일 때 실행되는 명령\n",
        "\n",
        "...(생략)...\n",
        "\n",
        "\n",
        "else:\n",
        "    지금까지의 어떤 조건도 참이 아니면 실행되는 명령\n",
        "```    "
      ],
      "metadata": {
        "id": "99u_R4Q-ErKh"
      }
    },
    {
      "cell_type": "markdown",
      "source": [
        "연습 3.\n",
        "\n",
        "만약 10문제를 보는 시험에서 8개 이상을 맞으면 성적이 \"A\", 8개 미만이고 5개 이상을 맞으면 \"B\", \" 5개 미만을 맞으면 \"C\"가 된다면 점수는 다음과 같이 계산할 수 있다."
      ],
      "metadata": {
        "id": "6DKdGQE_E6Q8"
      }
    },
    {
      "cell_type": "code",
      "source": [
        "test = 6\n",
        "\n",
        "if test >= 8:\n",
        "    print(\"A\")\n",
        "elif test >= 5:\n",
        "    print(\"B\")\n",
        "else:\n",
        "    print(\"C\")"
      ],
      "metadata": {
        "id": "trZxdcVPFDup",
        "colab": {
          "base_uri": "https://localhost:8080/"
        },
        "outputId": "62c3b40b-be85-4181-b5ae-f2f5cd910a99"
      },
      "execution_count": null,
      "outputs": [
        {
          "output_type": "stream",
          "name": "stdout",
          "text": [
            "B\n"
          ]
        }
      ]
    },
    {
      "cell_type": "markdown",
      "source": [
        "연습 4.\n",
        "\n",
        "체온을 입력받아 체온이 37도 보다 높으면 자가진단 그렇치 않으면 정상 메시지를 출력해보자."
      ],
      "metadata": {
        "id": "z_B75fmMHlLM"
      }
    },
    {
      "cell_type": "code",
      "source": [
        "# 연습4\n",
        "temp=int(input(\"당신의 체온을 입력하세요 : \"))\n",
        "if temp>37:\n",
        "    print(\"코로나 자가진단을 해보세요\")\n",
        "else:\n",
        "    print(\"당신은 정상입니다.\")"
      ],
      "metadata": {
        "id": "pW3ZbsGpHk-s",
        "colab": {
          "base_uri": "https://localhost:8080/"
        },
        "outputId": "958b2db2-7bfa-44e6-b607-46c6452c0e22"
      },
      "execution_count": null,
      "outputs": [
        {
          "output_type": "stream",
          "name": "stdout",
          "text": [
            "당신의 체온을 입력하세요 : 34\n",
            "당신은 정상입니다.\n"
          ]
        }
      ]
    }
  ]
}